{
 "cells": [
  {
   "cell_type": "code",
   "execution_count": 1,
   "id": "567efff6-97b8-4143-b7bf-214aca77d533",
   "metadata": {},
   "outputs": [
    {
     "name": "stdout",
     "output_type": "stream",
     "text": [
      "Original list: [1, 2, 3, 4]\n",
      "List after adding 5: [1, 2, 3, 4, 5]\n",
      "List after removing 3: [1, 2, 4, 5]\n",
      "List after modifying second element to 20: [1, 20, 4, 5]\n"
     ]
    }
   ],
   "source": [
    "# Creating a list\n",
    "my_list = [1, 2, 3, 4]\n",
    "\n",
    "# Basic operations on the list\n",
    "print(\"Original list:\", my_list)\n",
    "my_list.append(5)  # Adding an element to the list\n",
    "print(\"List after adding 5:\", my_list)\n",
    "my_list.remove(3)  # Removing an element from the list\n",
    "print(\"List after removing 3:\", my_list)\n",
    "my_list[1] = 20  # Modifying an element in the list\n",
    "print(\"List after modifying second element to 20:\", my_list)\n"
   ]
  },
  {
   "cell_type": "code",
   "execution_count": 3,
   "id": "cd02cb67-f426-43cd-9224-b3d8258bb53e",
   "metadata": {},
   "outputs": [
    {
     "name": "stdout",
     "output_type": "stream",
     "text": [
      "\n",
      "Original dictionary: {'a': 1, 'b': 2, 'c': 3}\n",
      "Dictionary after adding key 'd': {'a': 1, 'b': 2, 'c': 3, 'd': 4}\n",
      "Dictionary after removing key 'b': {'a': 1, 'c': 3, 'd': 4}\n",
      "Dictionary after modifying value of key 'a': {'a': 10, 'c': 3, 'd': 4}\n"
     ]
    }
   ],
   "source": [
    "#creating a dictionary\n",
    "my_dict = {'a': 1, 'b': 2, 'c': 3}\n",
    "# Basic operations on the dictionary\n",
    "print(\"\\nOriginal dictionary:\", my_dict)\n",
    "my_dict['d'] = 4  # Adding a key-value pair to the dictionary\n",
    "print(\"Dictionary after adding key 'd':\", my_dict)\n",
    "del my_dict['b']  # Removing a key-value pair from the dictionary\n",
    "print(\"Dictionary after removing key 'b':\", my_dict)\n",
    "my_dict['a'] = 10  # Modifying a value in the dictionary\n",
    "print(\"Dictionary after modifying value of key 'a':\", my_dict)\n"
   ]
  },
  {
   "cell_type": "code",
   "execution_count": 5,
   "id": "c63cc364-6d3c-4f2c-97e3-be7677d3f225",
   "metadata": {},
   "outputs": [
    {
     "name": "stdout",
     "output_type": "stream",
     "text": [
      "\n",
      "Original set: {1, 2, 3, 4}\n",
      "Set after adding 5: {1, 2, 3, 4, 5}\n",
      "Set after removing 2: {1, 3, 4, 5}\n"
     ]
    }
   ],
   "source": [
    "#creating a set \n",
    "my_set = {1, 2, 3, 4}\n",
    "\n",
    "# Basic operations on the set\n",
    "print(\"\\nOriginal set:\", my_set)\n",
    "my_set.add(5)  # Adding an element to the set\n",
    "print(\"Set after adding 5:\", my_set)\n",
    "my_set.discard(2)  # Removing an element from the set\n",
    "print(\"Set after removing 2:\", my_set)\n"
   ]
  },
  {
   "cell_type": "code",
   "execution_count": null,
   "id": "36ac8904-5a66-4cc0-a860-5d96c2bc36c5",
   "metadata": {},
   "outputs": [],
   "source": []
  }
 ],
 "metadata": {
  "kernelspec": {
   "display_name": "Python 3 (ipykernel)",
   "language": "python",
   "name": "python3"
  },
  "language_info": {
   "codemirror_mode": {
    "name": "ipython",
    "version": 3
   },
   "file_extension": ".py",
   "mimetype": "text/x-python",
   "name": "python",
   "nbconvert_exporter": "python",
   "pygments_lexer": "ipython3",
   "version": "3.11.7"
  }
 },
 "nbformat": 4,
 "nbformat_minor": 5
}
