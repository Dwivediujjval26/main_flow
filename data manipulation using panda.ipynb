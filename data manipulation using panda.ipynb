{
 "cells": [
  {
   "cell_type": "code",
   "execution_count": null,
   "id": "7c1aedb7-596d-469b-92bf-3ba839549276",
   "metadata": {},
   "outputs": [],
   "source": [
    "import pandas as pd\n",
    "\n",
    "# 1. Load CSV file into a DataFrame\n",
    "df = pd.read_csv('data.csv')\n",
    "\n",
    "# Display the first few rows of the DataFrame\n",
    "print(\"First few rows of the dataset:\")\n",
    "print(df.head())\n",
    "\n",
    "# 2. Filter data based on conditions (e.g., Age > 30)\n",
    "filtered_df = df[df['Age'] > 30]\n",
    "\n",
    "# Display the filtered data\n",
    "print(\"\\nFiltered data (Age > 30):\")\n",
    "print(filtered_df.head())\n",
    "\n",
    "# 3. Handle missing values\n",
    "# Check for missing values\n",
    "print(\"\\nMissing values per column:\")\n",
    "print(df.isnull().sum())\n",
    "\n",
    "# Fill missing values in 'Age' column with the mean\n",
    "df['Age'] = df['Age'].fillna(df['Age'].mean())\n",
    "\n",
    "# Fill missing values in 'Income' column with the median\n",
    "df['Income'] = df['Income'].fillna(df['Income'].median())\n",
    "\n",
    "# Drop rows where all values are missing\n",
    "df_cleaned = df.dropna(how='all')\n",
    "\n",
    "# 4. Calculate summary statistics\n",
    "summary_stats = df.describe()\n",
    "\n",
    "print(\"\\nSummary statistics for numerical columns:\")\n",
    "print(summary_stats)\n",
    "\n",
    "# Calculate specific summary statistics\n",
    "mean_age = df['Age'].mean()\n",
    "median_income = df['Income'].median()\n",
    "std_dev_income = df['Income'].std()\n",
    "\n",
    "print(f\"\\nMean Age: {mean_age}\")\n",
    "print(f\"Median Income: {median_income}\")\n",
    "print(f\"Standard Deviation of Income: {std_dev_income}\")\n"
   ]
  }
 ],
 "metadata": {
  "kernelspec": {
   "display_name": "Python 3 (ipykernel)",
   "language": "python",
   "name": "python3"
  },
  "language_info": {
   "codemirror_mode": {
    "name": "ipython",
    "version": 3
   },
   "file_extension": ".py",
   "mimetype": "text/x-python",
   "name": "python",
   "nbconvert_exporter": "python",
   "pygments_lexer": "ipython3",
   "version": "3.11.7"
  }
 },
 "nbformat": 4,
 "nbformat_minor": 5
}
